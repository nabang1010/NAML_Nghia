{
 "cells": [
  {
   "cell_type": "code",
   "execution_count": 1,
   "metadata": {},
   "outputs": [],
   "source": [
    "from torch.utils.data import Dataset\n",
    "import pandas as pd\n",
    "from ast import literal_eval\n",
    "from os import path\n",
    "import numpy as np\n",
    "from config_nghia import model_name\n",
    "import importlib\n",
    "import torch\n",
    "from torch.utils.data import DataLoader"
   ]
  },
  {
   "cell_type": "code",
   "execution_count": 2,
   "metadata": {},
   "outputs": [],
   "source": [
    "try:\n",
    "    config = getattr(importlib.import_module('config_nghia'), f\"{model_name}Config\")\n",
    "except AttributeError:\n",
    "    print(f\"{model_name} not included!\")\n",
    "    exit() # load the config"
   ]
  },
  {
   "cell_type": "code",
   "execution_count": 43,
   "metadata": {},
   "outputs": [],
   "source": [
    "class BaseDataset(Dataset):\n",
    "    def __init__(self, behaviors_path , news_path):\n",
    "        ''' \n",
    "        behaviors_path: path to behaviors.tsv\n",
    "        news_path: path to news.tsv\n",
    "        '''\n",
    "        super().__init__()\n",
    "        self.behavior_parsed = pd.read_table(behaviors_path) \n",
    "        self.news_parsed = pd.read_table(\n",
    "            news_path,\n",
    "            index_col='id', #neu them id vao thi se try suat bang id chu khong \n",
    "            usecols= ['id' , 'category' , 'subcategory' , 'title' , 'abstract'],\n",
    "            #\"news\": ['category', 'subcategory', 'title', 'abstract'],\n",
    "            converters={attribute: literal_eval\n",
    "                for attribute in ['category', 'subcategory', 'title', 'abstract']\n",
    "            }\n",
    "        )\n",
    "        self.id2int = { id : i  for i , id in enumerate(self.news_parsed.index)}\n",
    "        self.news2dict = self.news_parsed.to_dict('index')\n",
    "        for id in self.news2dict:\n",
    "            for name_col in self.news2dict[id]:\n",
    "                self.news2dict[id][name_col] = torch.tensor(self.news2dict[id][name_col])\n",
    "        # create padding \n",
    "        padding = {\n",
    "            'category' : 0,\n",
    "            'subcategory' : 0,\n",
    "            'title' : [0] * config.num_words_title,\n",
    "            'abstract' : [0] * config.num_words_abstract,\n",
    "        }\n",
    "        for index in padding:\n",
    "            padding[index] = torch.tensor(padding[index])\n",
    "        self.padding = padding\n",
    "                \n",
    "    def __len__(self):\n",
    "        return len(self.behavior_parsed)\n",
    "    def __getitem__(self, index):\n",
    "        # print(self.behavior_parsed.iloc[index])\n",
    "        item = {}\n",
    "        row = self.behavior_parsed.iloc[index]\n",
    "        item['clicked'] = list(map(int , row.clicked.split()))\n",
    "        item['clicked_news']  = [self.news2dict[id] if id in self.news2dict else self.padding\n",
    "                                 for id in row.candidate_news.split()]\n",
    "        print(self.news_parsed.iloc[index])\n",
    "        return (self.behavior_parsed.user_id.iloc[index], self.news_parsed.category.iloc[index])\n",
    "        "
   ]
  },
  {
   "cell_type": "code",
   "execution_count": 46,
   "metadata": {},
   "outputs": [
    {
     "name": "stdout",
     "output_type": "stream",
     "text": [
      "category                                                       1\n",
      "subcategory                                                    2\n",
      "title          [1, 2, 3, 4, 5, 6, 7, 5, 8, 6, 0, 0, 9, 0, 0, ...\n",
      "abstract       [10, 1, 0, 5, 0, 5, 8, 11, 12, 1, 13, 14, 15, ...\n",
      "Name: N55528, dtype: object\n",
      "[tensor([0]), tensor([1])]\n"
     ]
    }
   ],
   "source": [
    "behavior_path = './save_process/behaviors_processed.tsv'\n",
    "news_path = './save_process/news_processed.tsv'\n",
    "dataset = BaseDataset(behavior_path, news_path)\n",
    "train_loader = DataLoader(dataset, batch_size=1, shuffle=False)\n",
    "for i, data in enumerate(train_loader):\n",
    "    print(data) \n",
    "    break"
   ]
  },
  {
   "cell_type": "code",
   "execution_count": 55,
   "metadata": {},
   "outputs": [],
   "source": [
    "df = pd.read_table(\n",
    "            news_path,\n",
    "            index_col='id', #neu them id vao thi se try suat bang id chu khong \n",
    "            usecols= ['id' , 'category' , 'subcategory' , 'title' , 'abstract'], #\"news\": ['category', 'subcategory', 'title', 'abstract'],\n",
    "            converters={attribute: literal_eval\n",
    "                for attribute in ['category', 'subcategory', 'title', 'abstract']\n",
    "            }\n",
    "        )\n",
    "df.head()\n",
    "id2int = {id: i for i , id in enumerate(df.index)}\n",
    "news2dict = df.to_dict('index')"
   ]
  },
  {
   "cell_type": "code",
   "execution_count": 67,
   "metadata": {},
   "outputs": [
    {
     "name": "stdout",
     "output_type": "stream",
     "text": [
      "tensor(1)\n",
      "tensor(2)\n",
      "tensor([1, 2, 3, 4, 5, 6, 7, 5, 8, 6, 0, 0, 9, 0, 0, 0, 0, 0, 0, 0])\n",
      "tensor([10,  1,  0,  5,  0,  5,  8, 11, 12,  1, 13, 14, 15, 16, 17, 18,  0,  0,\n",
      "         0,  0,  0,  0,  0,  0,  0,  0,  0,  0,  0,  0,  0,  0,  0,  0,  0,  0,\n",
      "         0,  0,  0,  0,  0,  0,  0,  0,  0,  0,  0,  0,  0,  0])\n"
     ]
    },
    {
     "name": "stderr",
     "output_type": "stream",
     "text": [
      "/root/anaconda3/envs/lba_gnn37/lib/python3.7/site-packages/ipykernel_launcher.py:4: UserWarning: To copy construct from a tensor, it is recommended to use sourceTensor.clone().detach() or sourceTensor.clone().detach().requires_grad_(True), rather than torch.tensor(sourceTensor).\n",
      "  after removing the cwd from sys.path.\n"
     ]
    }
   ],
   "source": [
    "for index in news2dict:\n",
    "    for name_col in news2dict[index].keys(): \n",
    "        # print(name_col)\n",
    "        news2dict[index][name_col] = torch.tensor(news2dict[index][name_col])\n",
    "        print(news2dict[index][name_col]) # attribute of dictitonnary\n",
    "        \n",
    "    # print(index)\n",
    "    break"
   ]
  },
  {
   "cell_type": "code",
   "execution_count": 57,
   "metadata": {},
   "outputs": [
    {
     "data": {
      "text/plain": [
       "user_id                                                           1\n",
       "history           N58715 N32109 N51180 N33438 N54827 N28488 N611...\n",
       "candidate_news                                 N23513 N31958 N46976\n",
       "clicked                                                       1 0 0\n",
       "Name: 1, dtype: object"
      ]
     },
     "execution_count": 57,
     "metadata": {},
     "output_type": "execute_result"
    }
   ],
   "source": [
    "behavior_parsed = pd.read_table(behavior_path) \n",
    "# behavior_parsed.iloc[1]\n",
    "row = behavior_parsed.iloc[1]\n",
    "row"
   ]
  },
  {
   "cell_type": "code",
   "execution_count": 61,
   "metadata": {},
   "outputs": [],
   "source": [
    "padding = {\n",
    "            'category' : 0,\n",
    "            'subcategory' : 0,\n",
    "            'title' : [0] * config.num_words_title,\n",
    "            'abstract' : [0] * config.num_words_abstract,\n",
    "        }\n",
    "list_temp = [\n",
    "    news2dict[x] if x in news2dict else padding\n",
    "    for x in row.candidate_news.split()]\n"
   ]
  },
  {
   "cell_type": "code",
   "execution_count": 66,
   "metadata": {},
   "outputs": [
    {
     "data": {
      "text/plain": [
       "[1, 0, 0]"
      ]
     },
     "execution_count": 66,
     "metadata": {},
     "output_type": "execute_result"
    }
   ],
   "source": [
    "list(map(int , row.clicked.split()))"
   ]
  },
  {
   "cell_type": "code",
   "execution_count": null,
   "metadata": {},
   "outputs": [],
   "source": []
  }
 ],
 "metadata": {
  "kernelspec": {
   "display_name": "Python 3.7.13 ('lba_gnn37')",
   "language": "python",
   "name": "python3"
  },
  "language_info": {
   "codemirror_mode": {
    "name": "ipython",
    "version": 3
   },
   "file_extension": ".py",
   "mimetype": "text/x-python",
   "name": "python",
   "nbconvert_exporter": "python",
   "pygments_lexer": "ipython3",
   "version": "3.7.13"
  },
  "orig_nbformat": 4,
  "vscode": {
   "interpreter": {
    "hash": "0acbc6efc8d49867015fd0566c44348b9068f0c9a1fa0d66885855ebd09c73fd"
   }
  }
 },
 "nbformat": 4,
 "nbformat_minor": 2
}
